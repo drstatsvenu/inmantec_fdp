{
 "cells": [
  {
   "cell_type": "code",
   "execution_count": null,
   "metadata": {
    "collapsed": true
   },
   "outputs": [],
   "source": [
    "import pandas as pd\n",
    "from scipy import stats\n",
    "import numpy as np\n",
    "import statsmodels.api as sm\n",
    "import matplotlib.pyplot as plt\n",
    "plt.style.use('ggplot')\n",
    "%matplotlib inline"
   ]
  },
  {
   "cell_type": "code",
   "execution_count": null,
   "metadata": {
    "collapsed": true
   },
   "outputs": [],
   "source": [
    "brain = pd.read_csv(\"data/brain_size.csv\", index_col=0, sep=';', na_values=\".\")\n",
    "wages = pd.read_csv(\"data/wages.csv\")"
   ]
  },
  {
   "cell_type": "markdown",
   "metadata": {},
   "source": [
    "# Example: How is Verbal Intelligence Quotient distributed in a population?"
   ]
  },
  {
   "cell_type": "markdown",
   "metadata": {},
   "source": [
    "## Q: Is VIQ normally distributed?\n",
    "### Null Hypothesis ($H_{0}$): VIQ is normally distributed."
   ]
  },
  {
   "cell_type": "code",
   "execution_count": null,
   "metadata": {
    "collapsed": false
   },
   "outputs": [],
   "source": [
    "stats.normaltest(brain['VIQ'])"
   ]
  },
  {
   "cell_type": "code",
   "execution_count": null,
   "metadata": {
    "collapsed": false
   },
   "outputs": [],
   "source": [
    "mean = brain['VIQ'].mean()\n",
    "std = brain['VIQ'].std()\n",
    "estimate = stats.norm.rvs(mean, std, size=(brain.shape[0],))\n",
    "brain['VIQ'].plot(kind=\"kde\", label=\"original\")\n",
    "pd.Series(estimate).plot(kind=\"kde\", label=\"estimate\")\n",
    "plt.legend()"
   ]
  },
  {
   "cell_type": "markdown",
   "metadata": {},
   "source": [
    "## Exercise: Are the VIQs of males and females normally distributed?\n",
    "### Hint: Use the `stats.normaltest` function and find the p-value for both distributions"
   ]
  },
  {
   "cell_type": "code",
   "execution_count": null,
   "metadata": {
    "collapsed": true
   },
   "outputs": [],
   "source": [
    "# enter code here"
   ]
  },
  {
   "cell_type": "markdown",
   "metadata": {},
   "source": [
    "## Q: Does the VIQ distribution differ by gender? 2-sample Test!"
   ]
  },
  {
   "cell_type": "code",
   "execution_count": null,
   "metadata": {
    "collapsed": false
   },
   "outputs": [],
   "source": [
    "mbrain = brain[brain['Gender'] == \"Male\"]\n",
    "fbrain = brain[brain['Gender'] == \"Female\"]\n",
    "stats.ttest_ind(mbrain['VIQ'], fbrain['VIQ'])"
   ]
  },
  {
   "cell_type": "markdown",
   "metadata": {},
   "source": [
    "### Exercise: Draw the PDFs of male and female VIQs and see if this result is supported.\n",
    "### Hint: Use `plot(kind=\"kde\")`"
   ]
  },
  {
   "cell_type": "code",
   "execution_count": null,
   "metadata": {
    "collapsed": false
   },
   "outputs": [],
   "source": [
    "# enter code here"
   ]
  },
  {
   "cell_type": "markdown",
   "metadata": {},
   "source": [
    "# Linear Models"
   ]
  },
  {
   "cell_type": "markdown",
   "metadata": {},
   "source": [
    "## Simple linear regression\n",
    "## $$ y = \\alpha x + \\beta + \\epsilon$$"
   ]
  },
  {
   "cell_type": "code",
   "execution_count": null,
   "metadata": {
    "collapsed": false
   },
   "outputs": [],
   "source": [
    "# simulate some data\n",
    "import numpy as np\n",
    "x = np.linspace(-5, 5, 20)\n",
    "np.random.seed(1)\n",
    "# normal distributed noise\n",
    "y = -5 + 3*x + 4 * np.random.normal(size=x.shape)\n",
    "# Create a data frame containing all the relevant variables\n",
    "df = pd.DataFrame({'x': x, 'y': y})\n",
    "plt.scatter(x, y)\n",
    "plt.xlabel(\"$x$\")\n",
    "plt.ylabel(\"$y$\")"
   ]
  },
  {
   "cell_type": "code",
   "execution_count": null,
   "metadata": {
    "collapsed": true
   },
   "outputs": [],
   "source": [
    "# fitting an OLS model\n",
    "model = sm.formula.ols(\"y ~ x\", df).fit()"
   ]
  },
  {
   "cell_type": "code",
   "execution_count": null,
   "metadata": {
    "collapsed": false
   },
   "outputs": [],
   "source": [
    "print(model.summary())"
   ]
  },
  {
   "cell_type": "code",
   "execution_count": null,
   "metadata": {
    "collapsed": false
   },
   "outputs": [],
   "source": [
    "# reconstruction\n",
    "alpha_est = 2.9369\n",
    "beta_est = -5.5335\n",
    "epsilon_est = 1.036\n",
    "y_hat = x * alpha_est + beta_est + epsilon_est\n",
    "plt.scatter(x, y, label=\"$y$\")\n",
    "plt.plot(x, y_hat, label=\"$\\hat{y}$\")\n",
    "plt.legend()"
   ]
  },
  {
   "cell_type": "markdown",
   "metadata": {},
   "source": [
    "## Exercise: Find $\\alpha$, $\\beta$ and $\\epsilon$ for linear regression between VIQ and PIQ"
   ]
  },
  {
   "cell_type": "code",
   "execution_count": null,
   "metadata": {
    "collapsed": true
   },
   "outputs": [],
   "source": [
    "# enter code here"
   ]
  },
  {
   "cell_type": "markdown",
   "metadata": {},
   "source": [
    "## Multivariate Regression\n",
    "## $$ z = \\alpha_{1} x + \\alpha_{2} y + \\beta + \\epsilon $$"
   ]
  },
  {
   "cell_type": "code",
   "execution_count": null,
   "metadata": {
    "collapsed": false
   },
   "outputs": [],
   "source": [
    "from mpl_toolkits.mplot3d import Axes3D\n",
    "x = np.linspace(-5, 5, 21)\n",
    "# We generate a 2D grid\n",
    "X, Y = np.meshgrid(x, x)\n",
    "\n",
    "# To get reproducable values, provide a seed value\n",
    "np.random.seed(1)\n",
    "\n",
    "# Z is the elevation of this 2D grid\n",
    "Z = -5 + 3*X - 0.5*Y + 8 * np.random.normal(size=X.shape)\n",
    "\n",
    "# Plot the data\n",
    "fig = plt.figure()\n",
    "ax = fig.gca(projection='3d')\n",
    "surf = ax.plot_surface(X, Y, Z, cmap=plt.cm.coolwarm,\n",
    "                       rstride=1, cstride=1)\n",
    "ax.view_init(20, -120)\n",
    "ax.set_xlabel('$x$')\n",
    "ax.set_ylabel('$y$')\n",
    "ax.set_zlabel('$z$')"
   ]
  },
  {
   "cell_type": "markdown",
   "metadata": {},
   "source": [
    "## Example: Is there a relationship between petal length and width? (Iris dataset)"
   ]
  },
  {
   "cell_type": "code",
   "execution_count": null,
   "metadata": {
    "collapsed": false
   },
   "outputs": [],
   "source": [
    "iris = pd.read_csv(\"data/iris.csv\")\n",
    "iris.head()"
   ]
  },
  {
   "cell_type": "code",
   "execution_count": null,
   "metadata": {
    "collapsed": false
   },
   "outputs": [],
   "source": [
    "iris.plot.scatter(\"petal_length\", \"petal_width\")"
   ]
  },
  {
   "cell_type": "code",
   "execution_count": null,
   "metadata": {
    "collapsed": false
   },
   "outputs": [],
   "source": [
    "# color above plot by species\n",
    "gb = iris.groupby(\"name\")\n",
    "fig = plt.figure()\n",
    "ax = fig.add_subplot(111)\n",
    "colors = ['r', 'g', 'b']\n",
    "for i, (name, xdf) in enumerate(gb):\n",
    "    xdf.plot.scatter(\"sepal_width\", \"petal_length\", ax=ax, label=name, c=colors[i])\n",
    "plt.legend(loc=\"upper left\")"
   ]
  },
  {
   "cell_type": "markdown",
   "metadata": {},
   "source": [
    "## Hypothesis: Species affects the petal length vs width distribution!\n",
    "### Thus, in multivariate regression:\n",
    "### $$ p_{w} = f(s, p_{l})$$\n",
    "### $$ \\hat{p_{w}} = \\alpha_{1} s + \\alpha_{2} p_{l} + \\beta + \\epsilon$$"
   ]
  },
  {
   "cell_type": "code",
   "execution_count": null,
   "metadata": {
    "collapsed": false
   },
   "outputs": [],
   "source": [
    "model = sm.formula.ols(\"sepal_width ~ C(name) + petal_length\", data=iris).fit()"
   ]
  },
  {
   "cell_type": "code",
   "execution_count": null,
   "metadata": {
    "collapsed": false
   },
   "outputs": [],
   "source": [
    "print(model.summary())"
   ]
  },
  {
   "cell_type": "code",
   "execution_count": null,
   "metadata": {
    "collapsed": false
   },
   "outputs": [],
   "source": [
    "# reconstruction from model\n",
    "x_versicolor = iris[iris['name'] == \"versicolor\"]['petal_length']\n",
    "x_virginica = iris[iris['name'] == \"virginica\"]['petal_length']\n",
    "y_versicolor_est = x_versicolor * 0.2983 - 1.4821 + 2.9813\n",
    "y_virginica_est = x_virginica * 0.2983 - 1.6635 + 2.9813\n",
    "\n",
    "# plot estimated data\n",
    "fig = plt.figure()\n",
    "ax = fig.add_subplot(111)\n",
    "plt.scatter(y_versicolor_est, x_versicolor, c=\"g\", marker=\"x\")\n",
    "plt.scatter(y_virginica_est, x_virginica, c=\"b\", marker=\"x\")\n",
    "\n",
    "# overlay original data\n",
    "gb = iris.groupby(\"name\")\n",
    "\n",
    "colors = ['r', 'g', 'b']\n",
    "for i, (name, xdf) in enumerate(gb):\n",
    "    xdf.plot.scatter(\"sepal_width\", \"petal_length\", ax=ax, label=name, c=colors[i])"
   ]
  },
  {
   "cell_type": "markdown",
   "metadata": {},
   "source": [
    "## Exercise: Fit an OLS model between petal width and sepal length"
   ]
  },
  {
   "cell_type": "code",
   "execution_count": null,
   "metadata": {
    "collapsed": true
   },
   "outputs": [],
   "source": [
    "# enter code here"
   ]
  }
 ],
 "metadata": {
  "anaconda-cloud": {},
  "kernelspec": {
   "display_name": "Python [default]",
   "language": "python",
   "name": "python3"
  },
  "language_info": {
   "codemirror_mode": {
    "name": "ipython",
    "version": 3
   },
   "file_extension": ".py",
   "mimetype": "text/x-python",
   "name": "python",
   "nbconvert_exporter": "python",
   "pygments_lexer": "ipython3",
   "version": "3.5.2"
  }
 },
 "nbformat": 4,
 "nbformat_minor": 1
}
