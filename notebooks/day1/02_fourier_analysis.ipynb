{
 "cells": [
  {
   "cell_type": "code",
   "execution_count": null,
   "metadata": {
    "collapsed": true
   },
   "outputs": [],
   "source": [
    "import numpy as np\n",
    "from scipy import fftpack as fft\n",
    "import matplotlib.pyplot as plt\n",
    "plt.style.use('ggplot')\n",
    "%matplotlib inline"
   ]
  },
  {
   "cell_type": "markdown",
   "metadata": {},
   "source": [
    "# DTMF: Linear combination of two sinusoids\n",
    "![](dtmf.jpg)"
   ]
  },
  {
   "cell_type": "code",
   "execution_count": null,
   "metadata": {
    "collapsed": false
   },
   "outputs": [],
   "source": [
    "Fs = 32768\n",
    "duration = 0.25\n",
    "t = np.linspace(0, duration, duration * Fs)\n",
    "f1, f2 = 697, 1336\n",
    "y1 = np.sin(2 * np.pi * f1 * t);\n",
    "y2 = np.sin(2 * np.pi * f2 * t);\n",
    "y = (y1 + y2) / 2\n",
    "plt.plot(t, y)"
   ]
  },
  {
   "cell_type": "code",
   "execution_count": null,
   "metadata": {
    "collapsed": false
   },
   "outputs": [],
   "source": [
    "from IPython.display import Audio\n",
    "Audio(y, rate=44100)"
   ]
  },
  {
   "cell_type": "markdown",
   "metadata": {},
   "source": [
    "## Repeating the signal ten times"
   ]
  },
  {
   "cell_type": "code",
   "execution_count": null,
   "metadata": {
    "collapsed": false
   },
   "outputs": [],
   "source": [
    "t = np.linspace(0, duration * 10, duration * 10 * Fs)\n",
    "f1, f2 = 697, 1336\n",
    "y1 = np.sin(2 * np.pi * f1 * t);\n",
    "y2 = np.sin(2 * np.pi * f2 * t);\n",
    "y = (y1 + y2) / 2\n",
    "Audio(y, rate=44100)"
   ]
  },
  {
   "cell_type": "code",
   "execution_count": null,
   "metadata": {
    "collapsed": false
   },
   "outputs": [],
   "source": [
    "# Recreate the original signal for simplicity\n",
    "\n",
    "t = np.linspace(0, duration , duration * Fs)\n",
    "f1, f2 = 697, 1336\n",
    "y1 = np.sin(2 * np.pi * f1 * t);\n",
    "y2 = np.sin(2 * np.pi * f2 * t);\n",
    "y = (y1 + y2) / 2\n",
    "\n",
    "n = y.shape[0]\n",
    "p = np.abs(fft.fft(y));\n",
    "f = fft.fftfreq(n, d=1/Fs)\n",
    "plt.plot(f,p);"
   ]
  },
  {
   "cell_type": "markdown",
   "metadata": {
    "collapsed": true
   },
   "source": [
    "### Q: Why did this happen?\n",
    "### Exercise: Re-plot the spectrum for only positive frequencies, and limit the X-axis to only 2 kHz"
   ]
  },
  {
   "cell_type": "code",
   "execution_count": null,
   "metadata": {
    "collapsed": true
   },
   "outputs": [],
   "source": [
    "# enter code here"
   ]
  },
  {
   "cell_type": "markdown",
   "metadata": {},
   "source": [
    "## Check that peaks are at the correct frequencies"
   ]
  },
  {
   "cell_type": "code",
   "execution_count": null,
   "metadata": {
    "collapsed": false
   },
   "outputs": [],
   "source": [
    "max_power_index = np.argsort(p)[::-1]\n",
    "max_frequency_index = f[max_power_index]\n",
    "print(max_frequency_index[:5])"
   ]
  },
  {
   "cell_type": "markdown",
   "metadata": {},
   "source": [
    "# Processing a noisy signal"
   ]
  },
  {
   "cell_type": "code",
   "execution_count": null,
   "metadata": {
    "collapsed": false
   },
   "outputs": [],
   "source": [
    "time_step = 0.02\n",
    "period = 5.\n",
    "time_vec = np.arange(0, 20, time_step)\n",
    "sig = np.sin(2 * np.pi / period * time_vec) + \\\n",
    "      0.5 * np.random.randn(time_vec.size)\n",
    "plt.plot(time_vec, sig)"
   ]
  },
  {
   "cell_type": "code",
   "execution_count": null,
   "metadata": {
    "collapsed": false
   },
   "outputs": [],
   "source": [
    "sample_freq = fft.fftfreq(sig.size, d=time_step)\n",
    "sig_fft = fft.fft(sig)\n",
    "pidxs = np.where(sample_freq > 0)\n",
    "freqs = sample_freq[pidxs]\n",
    "power = np.abs(sig_fft)[pidxs]\n",
    "plt.plot(freqs, power)\n",
    "plt.xlim(0, 5)"
   ]
  },
  {
   "cell_type": "code",
   "execution_count": null,
   "metadata": {
    "collapsed": false
   },
   "outputs": [],
   "source": [
    "# denoising\n",
    "freq = freqs[power.argmax()]\n",
    "sig_fft[np.abs(sample_freq) > freq] = 0\n",
    "# Reconstruction\n",
    "recons = fft.ifft(sig_fft)\n",
    "plt.plot(time_vec, sig, time_vec, recons)"
   ]
  },
  {
   "cell_type": "markdown",
   "metadata": {},
   "source": [
    "## exercise: 2D FFT - Denoise the follwing image\n",
    "## Hint: Look for 2D FFT functions in `scipy.fftpack` module\n",
    "## 1. Visualize the frequency spectrum of the image\n",
    "## 2. Threshold on a suitable value"
   ]
  },
  {
   "cell_type": "code",
   "execution_count": null,
   "metadata": {
    "collapsed": false
   },
   "outputs": [],
   "source": [
    "x = plt.imread(\"moonlanding.png\")\n",
    "plt.imshow(x, cmap=plt.cm.gray)\n",
    "plt.yticks([])\n",
    "plt.xticks([])\n",
    "plt.grid()"
   ]
  },
  {
   "cell_type": "code",
   "execution_count": null,
   "metadata": {
    "collapsed": true
   },
   "outputs": [],
   "source": [
    "# enter code here"
   ]
  }
 ],
 "metadata": {
  "kernelspec": {
   "display_name": "Python [default]",
   "language": "python",
   "name": "python3"
  },
  "language_info": {
   "codemirror_mode": {
    "name": "ipython",
    "version": 3
   },
   "file_extension": ".py",
   "mimetype": "text/x-python",
   "name": "python",
   "nbconvert_exporter": "python",
   "pygments_lexer": "ipython3",
   "version": "3.5.2"
  }
 },
 "nbformat": 4,
 "nbformat_minor": 1
}
