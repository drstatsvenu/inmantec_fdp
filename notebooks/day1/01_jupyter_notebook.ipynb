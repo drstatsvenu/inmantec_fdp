{
 "cells": [
  {
   "cell_type": "markdown",
   "metadata": {},
   "source": [
    "# Introduction to Jupyter Notebook\n",
    "```\n",
    "----------------------------------------------------------------------\n",
    "Filename : 01_jupyter_notebook.ipynb\n",
    "Date     : 22nd June, 2017\n",
    "Author   : Jaidev Deshpande\n",
    "Purpose  : Introduction to Jupyter notebook and its features.\n",
    "Libraries: IPython, JuPyter and matplotlib\n",
    "----------------------------------------------------------------------\n",
    "```"
   ]
  },
  {
   "cell_type": "markdown",
   "metadata": {},
   "source": [
    "## Parts of a Jupyter Notebook\n",
    "* ### Cells\n",
    "* ### Cells with output\n",
    "* ### Toolbar\n",
    "* ### Menubar"
   ]
  },
  {
   "cell_type": "code",
   "execution_count": null,
   "metadata": {
    "collapsed": true
   },
   "outputs": [],
   "source": [
    "# Example of an input-only cell\n",
    "import numpy as np\n",
    "import matplotlib.pyplot as plt\n",
    "plt.style.use('ggplot')\n",
    "%matplotlib inline"
   ]
  },
  {
   "cell_type": "code",
   "execution_count": null,
   "metadata": {
    "collapsed": false,
    "scrolled": true
   },
   "outputs": [],
   "source": [
    "# Examples of cells with output\n",
    "print(\"Hello, World!\")"
   ]
  },
  {
   "cell_type": "code",
   "execution_count": null,
   "metadata": {
    "collapsed": false
   },
   "outputs": [],
   "source": [
    "# Example of inline plotting\n",
    "t = np.linspace(-2 * np.pi, 2 * np.pi, 1000)\n",
    "x = np.cos(2 * np.pi * 2 * t)\n",
    "plt.plot(t, x)"
   ]
  },
  {
   "cell_type": "markdown",
   "metadata": {},
   "source": [
    "## Types of cells\n",
    "* ### Code\n",
    "* ### Markdown (this is a markdown cell!)\n",
    "* ### Raw NBConvert\n",
    "* ### Heading (deprecated)"
   ]
  },
  {
   "cell_type": "markdown",
   "metadata": {},
   "source": [
    "## Markdown cells\n",
    "\n",
    "* ### Can show _rich text_\n",
    "* ### Can render LaTeX code: $$ e^{i\\theta} = \\cos(\\theta) + i\\sin(\\theta) $$\n",
    "* ### And a lot more..."
   ]
  },
  {
   "cell_type": "markdown",
   "metadata": {},
   "source": [
    "## Menu bar\n",
    "![](menu_bar.png)"
   ]
  },
  {
   "cell_type": "markdown",
   "metadata": {},
   "source": [
    "## Special Note:  Almost all features of IPython console are available in Jupyter Notebook"
   ]
  },
  {
   "cell_type": "code",
   "execution_count": null,
   "metadata": {
    "collapsed": true
   },
   "outputs": [],
   "source": [
    "np.arange?"
   ]
  },
  {
   "cell_type": "code",
   "execution_count": null,
   "metadata": {
    "collapsed": true
   },
   "outputs": [],
   "source": [
    "np.linspace??"
   ]
  }
 ],
 "metadata": {
  "anaconda-cloud": {},
  "kernelspec": {
   "display_name": "Python [default]",
   "language": "python",
   "name": "python3"
  },
  "language_info": {
   "codemirror_mode": {
    "name": "ipython",
    "version": 3
   },
   "file_extension": ".py",
   "mimetype": "text/x-python",
   "name": "python",
   "nbconvert_exporter": "python",
   "pygments_lexer": "ipython3",
   "version": "3.5.2"
  }
 },
 "nbformat": 4,
 "nbformat_minor": 1
}
