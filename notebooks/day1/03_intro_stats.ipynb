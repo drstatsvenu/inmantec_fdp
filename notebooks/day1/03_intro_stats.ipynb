{
 "cells": [
  {
   "cell_type": "code",
   "execution_count": null,
   "metadata": {
    "collapsed": true
   },
   "outputs": [],
   "source": [
    "import numpy as np\n",
    "import scipy.stats as stat\n",
    "import matplotlib.pyplot as plt\n",
    "import pandas as pd\n",
    "plt.style.use('ggplot')\n",
    "%matplotlib inline"
   ]
  },
  {
   "cell_type": "markdown",
   "metadata": {},
   "source": [
    "# Generating Random Numbers"
   ]
  },
  {
   "cell_type": "code",
   "execution_count": null,
   "metadata": {
    "collapsed": false
   },
   "outputs": [],
   "source": [
    "x = np.random.normal(size=1000)\n",
    "plt.plot(x)"
   ]
  },
  {
   "cell_type": "markdown",
   "metadata": {},
   "source": [
    "## Q: What can we infer from the plot?"
   ]
  },
  {
   "cell_type": "code",
   "execution_count": null,
   "metadata": {
    "collapsed": false
   },
   "outputs": [],
   "source": [
    "fig, ax = plt.subplots(nrows=1, ncols=3)\n",
    "for i, n_bins in enumerate([10, 20, 50]):\n",
    "    _ax = ax[i]\n",
    "    bins = np.linspace(-4, 5, n_bins)\n",
    "    histogram = np.histogram(x, bins=bins, normed=True)[0]\n",
    "    bins = 0.5*(bins[1:] + bins[:-1])\n",
    "    _ax.plot(bins, histogram)\n",
    "    _ax.set_title(\"Bins = %d\" % n_bins)\n",
    "fig.tight_layout()"
   ]
  },
  {
   "cell_type": "markdown",
   "metadata": {},
   "source": [
    "## Q: What's the problem with histograms?"
   ]
  },
  {
   "cell_type": "code",
   "execution_count": null,
   "metadata": {
    "collapsed": false
   },
   "outputs": [],
   "source": [
    "fig, ax = plt.subplots(nrows=1, ncols=3)\n",
    "for i, n_bins in enumerate([10, 20, 50]):\n",
    "    _ax = ax[i]\n",
    "    bins = np.linspace(-4, 5, n_bins)\n",
    "    histogram = np.histogram(x, bins=bins, normed=True)[0]\n",
    "    bins = 0.5*(bins[1:] + bins[:-1])\n",
    "    _ax.plot(bins, histogram)\n",
    "    _ax.set_title(\"Bins = %d\" % n_bins)\n",
    "    estimate = stat.norm.pdf(bins)\n",
    "    _ax.plot(bins, estimate, \"g-\")\n",
    "fig.tight_layout()"
   ]
  },
  {
   "cell_type": "markdown",
   "metadata": {},
   "source": [
    "# Fitting parameters"
   ]
  },
  {
   "cell_type": "code",
   "execution_count": null,
   "metadata": {
    "collapsed": false
   },
   "outputs": [],
   "source": [
    "mean, std = stat.norm.fit(x)\n",
    "print(\"Estimated Mean: \", mean)\n",
    "print(\"Estimated STD: \", std)"
   ]
  },
  {
   "cell_type": "markdown",
   "metadata": {},
   "source": [
    "# Exercise: Verify the law of large numbers"
   ]
  },
  {
   "cell_type": "code",
   "execution_count": null,
   "metadata": {
    "collapsed": true
   },
   "outputs": [],
   "source": [
    "# enter code here"
   ]
  }
 ],
 "metadata": {
  "anaconda-cloud": {},
  "kernelspec": {
   "display_name": "Python [default]",
   "language": "python",
   "name": "python3"
  },
  "language_info": {
   "codemirror_mode": {
    "name": "ipython",
    "version": 3
   },
   "file_extension": ".py",
   "mimetype": "text/x-python",
   "name": "python",
   "nbconvert_exporter": "python",
   "pygments_lexer": "ipython3",
   "version": "3.5.2"
  }
 },
 "nbformat": 4,
 "nbformat_minor": 1
}
